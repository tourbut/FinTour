{
 "cells": [
  {
   "cell_type": "code",
   "execution_count": 1,
   "metadata": {},
   "outputs": [],
   "source": [
    "from simulation import Account\n",
    "import pandas as pd\n",
    "import matplotlib.pyplot as plt"
   ]
  },
  {
   "cell_type": "code",
   "execution_count": 2,
   "metadata": {},
   "outputs": [],
   "source": [
    "#환경 구성\n",
    "INITIAL_BALANCE = 10000\n",
    "STRAT_DATE = '2022-06-01'\n",
    "END_DATE = '2023-12-31'\n",
    "\n",
    "qyld = pd.read_csv('qyld_chart.csv', index_col=0, parse_dates=True)\n",
    "qyld_div = pd.read_csv('qyld_div.csv', index_col=0, parse_dates=True)\n",
    "qyld['CODE'] = 'QYLD'\n",
    "qyld['Dividends'] = qyld_div['Dividends']\n",
    "qyld = qyld.fillna(0)\n",
    "\n",
    "qyld = qyld[qyld.index>=STRAT_DATE]\n",
    "qyld = qyld[qyld.index<=END_DATE]\n",
    "qyld = qyld.reset_index()\n",
    "qyld_gym = qyld[['CODE','Date','Open','Dividends']]\n",
    "\n",
    "#print(qyld_gym.head(2))\n",
    "#print(qyld_gym.tail(2))\n",
    "\n",
    "jepi = pd.read_csv('jepi_chart.csv', index_col=0, parse_dates=True)\n",
    "jepi_div = pd.read_csv('jepi_div.csv', index_col=0, parse_dates=True)\n",
    "jepi['CODE'] = 'JEPI'\n",
    "jepi['Dividends'] = jepi_div['Dividends']\n",
    "jepi = jepi.fillna(0)\n",
    "\n",
    "jepi = jepi[jepi.index>=STRAT_DATE]\n",
    "jepi = jepi[jepi.index<=END_DATE]\n",
    "jepi = jepi.reset_index()\n",
    "jepi_gym = jepi[['CODE','Date','Open','Dividends']]\n",
    "\n",
    "#print(jepi_gym.head(2))\n",
    "#print(jepi_gym.tail(2))\n",
    "#gym = pd.concat([qyld_gym, jepi_gym])\n",
    "gym = pd.merge(qyld_gym, jepi_gym, on='Date', how='outer')\n"
   ]
  },
  {
   "cell_type": "code",
   "execution_count": null,
   "metadata": {},
   "outputs": [],
   "source": []
  },
  {
   "cell_type": "code",
   "execution_count": 3,
   "metadata": {},
   "outputs": [],
   "source": [
    "stock_acc = Account(INITIAL_BALANCE)\n",
    "gym = gym[['Date','Open_x','Dividends_x','Open_y','Dividends_y']]\n",
    "\n",
    "for date,open_qyld,div_qyld,open_jepi,div_jepi in gym[['Date','Open_x','Dividends_x','Open_y','Dividends_y']].values:\n",
    "    stock_acc.set_date(date.strftime('%Y-%m-%d'))\n",
    "\n",
    "    if stock_acc.get_account()['stocks'] == []:\n",
    "        code = 'QYLD'\n",
    "        open = open_qyld\n",
    "        div = div_qyld\n",
    "        stock_acc.buy(code,open,stock_acc.get_buyable_quantity(open))\n",
    "    \n",
    "    if div_qyld > 0 or div_jepi > 0:\n",
    "        stock_acc.get_dividends('QYLD',div_qyld)\n",
    "        stock_acc.get_dividends('JEPI',div_jepi)\n",
    "\n",
    "#stock_acc.sell(code,gym['Open'].iloc[-1],stock_acc.get_sellable_quantity(code))"
   ]
  },
  {
   "cell_type": "code",
   "execution_count": 4,
   "metadata": {},
   "outputs": [
    {
     "name": "stdout",
     "output_type": "stream",
     "text": [
      "{'balance': 1039.8780413799984, 'stocks': [{'code': 'QYLD', 'price': 18.059999, 'quantity': 552}]}\n"
     ]
    }
   ],
   "source": [
    "acc = stock_acc.get_account()\n",
    "print(acc)"
   ]
  },
  {
   "cell_type": "code",
   "execution_count": 5,
   "metadata": {},
   "outputs": [
    {
     "data": {
      "text/plain": [
       "-89.60121958620002"
      ]
     },
     "execution_count": 5,
     "metadata": {},
     "output_type": "execute_result"
    }
   ],
   "source": [
    "(acc['balance'] - INITIAL_BALANCE) / INITIAL_BALANCE  * 100"
   ]
  },
  {
   "cell_type": "code",
   "execution_count": 6,
   "metadata": {},
   "outputs": [
    {
     "name": "stdout",
     "output_type": "stream",
     "text": [
      "{'code': 'QYLD', 'price': 18.059999, 'quantity': 552, 'type': 'buy', 'date': '2022-06-01'}\n",
      "{'code': 'JEPI', 'price': 0, 'quantity': 0, 'type': 'dividends', 'date': '2022-06-01'}\n",
      "{'code': 'QYLD', 'price': 81.25660799999999, 'quantity': 0, 'type': 'dividends', 'date': '2022-06-21'}\n",
      "{'code': 'JEPI', 'price': 0, 'quantity': 0, 'type': 'dividends', 'date': '2022-07-01'}\n",
      "{'code': 'QYLD', 'price': 84.52555199999999, 'quantity': 0, 'type': 'dividends', 'date': '2022-07-18'}\n",
      "{'code': 'JEPI', 'price': 0, 'quantity': 0, 'type': 'dividends', 'date': '2022-08-01'}\n",
      "{'code': 'QYLD', 'price': 84.52555199999999, 'quantity': 0, 'type': 'dividends', 'date': '2022-08-22'}\n",
      "{'code': 'JEPI', 'price': 0, 'quantity': 0, 'type': 'dividends', 'date': '2022-09-01'}\n",
      "{'code': 'QYLD', 'price': 77.05368, 'quantity': 0, 'type': 'dividends', 'date': '2022-09-19'}\n",
      "{'code': 'JEPI', 'price': 0, 'quantity': 0, 'type': 'dividends', 'date': '2022-10-03'}\n",
      "{'code': 'QYLD', 'price': 76.11969599999999, 'quantity': 0, 'type': 'dividends', 'date': '2022-10-24'}\n",
      "{'code': 'JEPI', 'price': 0, 'quantity': 0, 'type': 'dividends', 'date': '2022-11-01'}\n",
      "{'code': 'QYLD', 'price': 77.05368, 'quantity': 0, 'type': 'dividends', 'date': '2022-11-21'}\n",
      "{'code': 'JEPI', 'price': 0, 'quantity': 0, 'type': 'dividends', 'date': '2022-12-01'}\n",
      "{'code': 'QYLD', 'price': 75.185712, 'quantity': 0, 'type': 'dividends', 'date': '2022-12-29'}\n",
      "{'code': 'JEPI', 'price': 0, 'quantity': 0, 'type': 'dividends', 'date': '2022-12-29'}\n",
      "{'code': 'QYLD', 'price': 79.38864, 'quantity': 0, 'type': 'dividends', 'date': '2023-01-23'}\n",
      "{'code': 'JEPI', 'price': 0, 'quantity': 0, 'type': 'dividends', 'date': '2023-02-01'}\n",
      "{'code': 'QYLD', 'price': 77.98766400000001, 'quantity': 0, 'type': 'dividends', 'date': '2023-02-21'}\n",
      "{'code': 'JEPI', 'price': 0, 'quantity': 0, 'type': 'dividends', 'date': '2023-03-01'}\n",
      "{'code': 'QYLD', 'price': 78.921648, 'quantity': 0, 'type': 'dividends', 'date': '2023-03-20'}\n",
      "{'code': 'JEPI', 'price': 0, 'quantity': 0, 'type': 'dividends', 'date': '2023-04-03'}\n",
      "{'code': 'QYLD', 'price': 80.789616, 'quantity': 0, 'type': 'dividends', 'date': '2023-04-24'}\n",
      "{'code': 'JEPI', 'price': 0, 'quantity': 0, 'type': 'dividends', 'date': '2023-05-01'}\n",
      "{'code': 'QYLD', 'price': 78.454656, 'quantity': 0, 'type': 'dividends', 'date': '2023-05-22'}\n",
      "{'code': 'JEPI', 'price': 0, 'quantity': 0, 'type': 'dividends', 'date': '2023-06-01'}\n",
      "{'code': 'QYLD', 'price': 82.65758399999999, 'quantity': 0, 'type': 'dividends', 'date': '2023-06-20'}\n"
     ]
    }
   ],
   "source": [
    "for trade in stock_acc.TRADE_HISTORY:\n",
    "    print(trade.get_trade())"
   ]
  }
 ],
 "metadata": {
  "kernelspec": {
   "display_name": ".venv",
   "language": "python",
   "name": "python3"
  },
  "language_info": {
   "codemirror_mode": {
    "name": "ipython",
    "version": 3
   },
   "file_extension": ".py",
   "mimetype": "text/x-python",
   "name": "python",
   "nbconvert_exporter": "python",
   "pygments_lexer": "ipython3",
   "version": "3.10.12"
  },
  "orig_nbformat": 4
 },
 "nbformat": 4,
 "nbformat_minor": 2
}
