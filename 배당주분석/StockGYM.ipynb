{
 "cells": [
  {
   "cell_type": "code",
   "execution_count": 1,
   "metadata": {},
   "outputs": [],
   "source": [
    "from simulation import Account\n",
    "import pandas as pd\n",
    "import matplotlib.pyplot as plt"
   ]
  },
  {
   "cell_type": "code",
   "execution_count": 2,
   "metadata": {},
   "outputs": [],
   "source": [
    "#환경 구성\n",
    "INITIAL_BALANCE = 10000\n",
    "STRAT_DATE = '2021-01-01'\n",
    "END_DATE = '2021-12-31'\n",
    "\n",
    "qyld = pd.read_csv('qyld_chart.csv', index_col=0, parse_dates=True)\n",
    "qyld_div = pd.read_csv('qyld_div.csv', index_col=0, parse_dates=True)\n",
    "qyld['CODE'] = 'QYLD'\n",
    "qyld['Dividends'] = qyld_div['Dividends']\n",
    "\n",
    "qyld = qyld[qyld.index>=STRAT_DATE]\n",
    "qyld = qyld[qyld.index<=END_DATE]\n",
    "qyld = qyld.reset_index()\n",
    "qyld_gym = qyld[['CODE','Date','Open','Dividends']]\n",
    "\n",
    "#print(qyld_gym.head(2))\n",
    "#print(qyld_gym.tail(2))\n",
    "\n",
    "jepi = pd.read_csv('jepi_chart.csv', index_col=0, parse_dates=True)\n",
    "jepi_div = pd.read_csv('jepi_div.csv', index_col=0, parse_dates=True)\n",
    "jepi['CODE'] = 'JEPI'\n",
    "jepi['Dividends'] = jepi_div['Dividends']\n",
    "\n",
    "jepi = jepi[jepi.index>=STRAT_DATE]\n",
    "jepi = jepi[jepi.index<=END_DATE]\n",
    "jepi = jepi.reset_index()\n",
    "jepi_gym = jepi[['CODE','Date','Open','Dividends']]\n",
    "\n",
    "#print(jepi_gym.head(2))\n",
    "#print(jepi_gym.tail(2))\n",
    "gym = pd.concat([qyld_gym, jepi_gym])\n"
   ]
  },
  {
   "cell_type": "code",
   "execution_count": 3,
   "metadata": {},
   "outputs": [
    {
     "data": {
      "text/plain": [
       "True"
      ]
     },
     "execution_count": 3,
     "metadata": {},
     "output_type": "execute_result"
    }
   ],
   "source": [
    "stock_acc = Account(INITIAL_BALANCE)\n",
    "code = 'JEPI'\n",
    "gym = gym[gym['CODE']==code]\n",
    "\n",
    "for date,open,div in gym[['Date','Open','Dividends']].values:\n",
    "    stock_acc.set_date(date.strftime('%Y-%m-%d'))\n",
    "    stock_acc.buy(code,open,stock_acc.get_buyable_quantity(open))\n",
    "    if div > 0:\n",
    "        stock_acc.get_dividends(code,div)\n",
    "\n",
    "stock_acc.sell(code,gym['Open'].iloc[-1],stock_acc.get_sellable_quantity(code))"
   ]
  },
  {
   "cell_type": "code",
   "execution_count": 4,
   "metadata": {},
   "outputs": [
    {
     "name": "stdout",
     "output_type": "stream",
     "text": [
      "{'balance': 11943.9516896375, 'stocks': []}\n"
     ]
    }
   ],
   "source": [
    "acc = stock_acc.get_account()\n",
    "print(acc)"
   ]
  },
  {
   "cell_type": "code",
   "execution_count": 5,
   "metadata": {},
   "outputs": [
    {
     "data": {
      "text/plain": [
       "19.439516896375007"
      ]
     },
     "execution_count": 5,
     "metadata": {},
     "output_type": "execute_result"
    }
   ],
   "source": [
    "(acc['balance'] - INITIAL_BALANCE) / INITIAL_BALANCE  * 100"
   ]
  },
  {
   "cell_type": "code",
   "execution_count": 6,
   "metadata": {},
   "outputs": [
    {
     "name": "stdout",
     "output_type": "stream",
     "text": [
      "{'code': 'JEPI', 'price': 55.740002, 'quantity': 178, 'type': 'buy', 'date': '2021-01-04'}\n",
      "{'code': 'JEPI', 'price': 39.604644, 'quantity': 0, 'type': 'dividends', 'date': '2021-02-01'}\n",
      "{'code': 'JEPI', 'price': 55.610001, 'quantity': 1, 'type': 'buy', 'date': '2021-02-02'}\n",
      "{'code': 'JEPI', 'price': 48.610314, 'quantity': 0, 'type': 'dividends', 'date': '2021-03-01'}\n",
      "{'code': 'JEPI', 'price': 55.759998, 'quantity': 1, 'type': 'buy', 'date': '2021-03-02'}\n",
      "{'code': 'JEPI', 'price': 52.99343999999999, 'quantity': 0, 'type': 'dividends', 'date': '2021-04-01'}\n",
      "{'code': 'JEPI', 'price': 58.09, 'quantity': 1, 'type': 'buy', 'date': '2021-04-05'}\n",
      "{'code': 'JEPI', 'price': 57.269124, 'quantity': 0, 'type': 'dividends', 'date': '2021-05-03'}\n",
      "{'code': 'JEPI', 'price': 59.25, 'quantity': 1, 'type': 'buy', 'date': '2021-05-04'}\n",
      "{'code': 'JEPI', 'price': 48.347208, 'quantity': 0, 'type': 'dividends', 'date': '2021-06-01'}\n",
      "{'code': 'JEPI', 'price': 59.419998, 'quantity': 1, 'type': 'buy', 'date': '2021-06-02'}\n",
      "{'code': 'JEPI', 'price': 61.15311, 'quantity': 0, 'type': 'dividends', 'date': '2021-07-01'}\n",
      "{'code': 'JEPI', 'price': 60.560001, 'quantity': 1, 'type': 'buy', 'date': '2021-07-02'}\n",
      "{'code': 'JEPI', 'price': 40.005648, 'quantity': 0, 'type': 'dividends', 'date': '2021-08-02'}\n",
      "{'code': 'JEPI', 'price': 52.770096, 'quantity': 0, 'type': 'dividends', 'date': '2021-09-01'}\n",
      "{'code': 'JEPI', 'price': 62.41, 'quantity': 1, 'type': 'buy', 'date': '2021-09-02'}\n",
      "{'code': 'JEPI', 'price': 53.682930000000006, 'quantity': 0, 'type': 'dividends', 'date': '2021-10-01'}\n",
      "{'code': 'JEPI', 'price': 59.709999, 'quantity': 1, 'type': 'buy', 'date': '2021-10-04'}\n",
      "{'code': 'JEPI', 'price': 57.59229599999999, 'quantity': 0, 'type': 'dividends', 'date': '2021-11-01'}\n",
      "{'code': 'JEPI', 'price': 61.450001, 'quantity': 1, 'type': 'buy', 'date': '2021-11-02'}\n",
      "{'code': 'JEPI', 'price': 60.591365999999994, 'quantity': 0, 'type': 'dividends', 'date': '2021-12-01'}\n",
      "{'code': 'JEPI', 'price': 59.860001, 'quantity': 1, 'type': 'buy', 'date': '2021-12-02'}\n",
      "{'code': 'JEPI', 'price': 73.003032, 'quantity': 0, 'type': 'dividends', 'date': '2021-12-30'}\n",
      "{'code': 'JEPI', 'price': 63.130001, 'quantity': 1, 'type': 'buy', 'date': '2021-12-31'}\n",
      "{'code': 'JEPI', 'price': 63.130001, 'quantity': 189, 'type': 'sell', 'date': '2021-12-31'}\n"
     ]
    }
   ],
   "source": [
    "for trade in stock_acc.TRADE_HISTORY:\n",
    "    print(trade.get_trade())"
   ]
  }
 ],
 "metadata": {
  "kernelspec": {
   "display_name": ".venv",
   "language": "python",
   "name": "python3"
  },
  "language_info": {
   "codemirror_mode": {
    "name": "ipython",
    "version": 3
   },
   "file_extension": ".py",
   "mimetype": "text/x-python",
   "name": "python",
   "nbconvert_exporter": "python",
   "pygments_lexer": "ipython3",
   "version": "3.10.12"
  },
  "orig_nbformat": 4
 },
 "nbformat": 4,
 "nbformat_minor": 2
}
